{
 "cells": [
  {
   "cell_type": "code",
   "execution_count": 3,
   "metadata": {
    "collapsed": true
   },
   "outputs": [],
   "source": [
    "import pandas as pd\n",
    "\n",
    "pd.set_option('display.max_rows', 100)"
   ]
  },
  {
   "cell_type": "code",
   "execution_count": 4,
   "outputs": [
    {
     "name": "stderr",
     "output_type": "stream",
     "text": [
      "C:\\Users\\jrisk\\AppData\\Local\\Temp\\ipykernel_48624\\685147853.py:37: SettingWithCopyWarning: \n",
      "A value is trying to be set on a copy of a slice from a DataFrame.\n",
      "Try using .loc[row_indexer,col_indexer] = value instead\n",
      "\n",
      "See the caveats in the documentation: https://pandas.pydata.org/pandas-docs/stable/user_guide/indexing.html#returning-a-view-versus-a-copy\n",
      "  run_df_num['log_Score'] = np.log(np.abs(run_df_num['Score'])+1e-10)\n"
     ]
    },
    {
     "name": "stdout",
     "output_type": "stream",
     "text": [
      "\n",
      "\n",
      "Run Num: 10000 ------\n",
      "count    1077.000000\n",
      "mean       -1.401029\n",
      "std         0.446855\n",
      "min        -2.000000\n",
      "25%        -1.719431\n",
      "50%        -1.510851\n",
      "75%        -1.233131\n",
      "max         1.146106\n",
      "Name: Score, dtype: float64\n"
     ]
    },
    {
     "data": {
      "text/plain": "<Figure size 640x480 with 1 Axes>",
      "image/png": "[encoded data removed]"
     },
     "metadata": {},
     "output_type": "display_data"
    }
   ],
   "source": [
    "df_res_list = []\n",
    "\n",
    "#for run_id in [1,5,2,6,3,7,4,8]:\n",
    "for run_id in [10000]:\n",
    "    go_explore = True\n",
    "    reward_type = 2\n",
    "    lawn_num = 22\n",
    "    #run_id = 1\n",
    "\n",
    "    #%%\n",
    "\n",
    "    log_dir = \"../PPO_logs\"\n",
    "    sub_dir = 'go_explore_' + str(go_explore) + '/reward_function' + str(reward_type) + \"/\"\n",
    "    env_name = f\"lawn{lawn_num}\"\n",
    "    log_dir = log_dir + '/' + env_name + '/' + sub_dir\n",
    "\n",
    "\n",
    "    #### create new log file for each run\n",
    "    log_f_name = log_dir + '/' + str(run_id) + \".csv\"''\n",
    "\n",
    "    #%%\n",
    "\n",
    "    run_df = pd.read_csv(log_f_name)\n",
    "\n",
    "    #%%\n",
    "\n",
    "    run_df.columns\n",
    "\n",
    "    #%%\n",
    "\n",
    "    run_df_num = run_df[['Perc_done', 'Frames', 'Score', 'Fuel_Score', 'Grass_Score',\n",
    "                     'Num_Fuel_Obtained', 'Amt_Fuel_Obtained', 'End_Fuel',\n",
    "                     'End_x', 'End_y', 'Momentum Lost', 'Fuel_Manhattan']]\n",
    "\n",
    "    #%%\n",
    "    import numpy as np\n",
    "    run_df_num['log_Score'] = np.log(np.abs(run_df_num['Score'])+1e-10)\n",
    "\n",
    "    #%%\n",
    "\n",
    "    run_df_num[run_df_num['Perc_done'] == 100].sort_values('Frames', ascending = True).iloc[:100]\n",
    "\n",
    "    #%%\n",
    "    import matplotlib.pyplot as plt\n",
    "    run_df_num[run_df_num['Perc_done'] == 100].sort_values('Score', ascending = False).iloc[:3000].boxplot('Score')\n",
    "\n",
    "    print(f'\\n')\n",
    "    print(f\"Run Num: {run_id} ------\")\n",
    "    print(run_df_num['Score'].describe())\n",
    "    #print(run_df_num[run_df_num['Perc_done'] == 100]['Score'].describe())\n",
    "\n",
    "    df_res = run_df_num['Score'].describe(percentiles=[0.5,0.75,0.9,0.95])\n",
    "    #df_res = run_df_num[run_df_num['Perc_done'] == 100]['Score'].describe(percentiles=[0.5,0.75,0.9,0.95])\n",
    "    df_res['run_id'] = run_id\n",
    "\n",
    "    df_res_list.append(df_res)\n",
    "\n",
    "    plt.show()\n",
    "\n"
   ],
   "metadata": {
    "collapsed": false,
    "pycharm": {
     "name": "#%%\n"
    }
   }
  },
  {
   "cell_type": "code",
   "execution_count": 5,
   "outputs": [
    {
     "data": {
      "text/plain": "      Perc_done  Frames     Score  Fuel_Score  Grass_Score  Num_Fuel_Obtained  \\\n607       51.85    1899  0.329794   22.294567   320.309633                  6   \n1062      46.30    1105  1.146106   25.577029   289.033602                  3   \n652       44.44    1899  0.628249   22.294567   240.530306                  6   \n1030      43.21    1106  0.815936   25.577029   256.016598                  3   \n1023      42.59    1899  0.458310   22.294567   223.536482                  6   \n...         ...     ...       ...         ...          ...                ...   \n205        3.70     360 -1.955447    0.000000     4.455294                  0   \n192        3.70     360 -1.954293    0.000000     4.570745                  0   \n185        3.70     360 -1.961582    0.000000     3.841794                  0   \n64         3.70     360 -1.954293    0.000000     4.570745                  0   \n96         3.70     360 -1.954293    0.000000     4.570745                  0   \n\n      Amt_Fuel_Obtained  End_Fuel  End_x  End_y  Momentum Lost  \\\n607               257.0       0.0      1     20             51   \n1062              125.0       0.0     10     12             18   \n652               257.0       0.0      1     20             52   \n1030              125.0       0.0      9     17             20   \n1023              257.0       0.0     11     22             46   \n...                 ...       ...    ...    ...            ...   \n205                 0.0       0.0      2      4              4   \n192                 0.0       0.0      1      4              1   \n185                 0.0       0.0      7      4              4   \n64                  0.0       0.0      2      4              1   \n96                  0.0       0.0      2      4              0   \n\n      Fuel_Manhattan  log_Score  \n607               16  -1.109286  \n1062               4   0.136370  \n652               16  -0.464819  \n1030               8  -0.203419  \n1023              16  -0.780208  \n...              ...        ...  \n205                5   0.670619  \n192                6   0.670028  \n185                4   0.673751  \n64                 5   0.670028  \n96                 5   0.670028  \n\n[1077 rows x 13 columns]",
      "text/html": "<div>\n<style scoped>\n    .dataframe tbody tr th:only-of-type {\n        vertical-align: middle;\n    }\n\n    .dataframe tbody tr th {\n        vertical-align: top;\n    }\n\n    .dataframe thead th {\n        text-align: right;\n    }\n</style>\n<table border=\"1\" class=\"dataframe\">\n  <thead>\n    <tr style=\"text-align: right;\">\n      <th></th>\n      <th>Perc_done</th>\n      <th>Frames</th>\n      <th>Score</th>\n      <th>Fuel_Score</th>\n      <th>Grass_Score</th>\n      <th>Num_Fuel_Obtained</th>\n      <th>Amt_Fuel_Obtained</th>\n      <th>End_Fuel</th>\n      <th>End_x</th>\n      <th>End_y</th>\n      <th>Momentum Lost</th>\n      <th>Fuel_Manhattan</th>\n      <th>log_Score</th>\n    </tr>\n  </thead>\n  <tbody>\n    <tr>\n      <th>607</th>\n      <td>51.85</td>\n      <td>1899</td>\n      <td>0.329794</td>\n      <td>22.294567</td>\n      <td>320.309633</td>\n      <td>6</td>\n      <td>257.0</td>\n      <td>0.0</td>\n      <td>1</td>\n      <td>20</td>\n      <td>51</td>\n      <td>16</td>\n      <td>-1.109286</td>\n    </tr>\n    <tr>\n      <th>1062</th>\n      <td>46.30</td>\n      <td>1105</td>\n      <td>1.146106</td>\n      <td>25.577029</td>\n      <td>289.033602</td>\n      <td>3</td>\n      <td>125.0</td>\n      <td>0.0</td>\n      <td>10</td>\n      <td>12</td>\n      <td>18</td>\n      <td>4</td>\n      <td>0.136370</td>\n    </tr>\n    <tr>\n      <th>652</th>\n      <td>44.44</td>\n      <td>1899</td>\n      <td>0.628249</td>\n      <td>22.294567</td>\n      <td>240.530306</td>\n      <td>6</td>\n      <td>257.0</td>\n      <td>0.0</td>\n      <td>1</td>\n      <td>20</td>\n      <td>52</td>\n      <td>16</td>\n      <td>-0.464819</td>\n    </tr>\n    <tr>\n      <th>1030</th>\n      <td>43.21</td>\n      <td>1106</td>\n      <td>0.815936</td>\n      <td>25.577029</td>\n      <td>256.016598</td>\n      <td>3</td>\n      <td>125.0</td>\n      <td>0.0</td>\n      <td>9</td>\n      <td>17</td>\n      <td>20</td>\n      <td>8</td>\n      <td>-0.203419</td>\n    </tr>\n    <tr>\n      <th>1023</th>\n      <td>42.59</td>\n      <td>1899</td>\n      <td>0.458310</td>\n      <td>22.294567</td>\n      <td>223.536482</td>\n      <td>6</td>\n      <td>257.0</td>\n      <td>0.0</td>\n      <td>11</td>\n      <td>22</td>\n      <td>46</td>\n      <td>16</td>\n      <td>-0.780208</td>\n    </tr>\n    <tr>\n      <th>...</th>\n      <td>...</td>\n      <td>...</td>\n      <td>...</td>\n      <td>...</td>\n      <td>...</td>\n      <td>...</td>\n      <td>...</td>\n      <td>...</td>\n      <td>...</td>\n      <td>...</td>\n      <td>...</td>\n      <td>...</td>\n      <td>...</td>\n    </tr>\n    <tr>\n      <th>205</th>\n      <td>3.70</td>\n      <td>360</td>\n      <td>-1.955447</td>\n      <td>0.000000</td>\n      <td>4.455294</td>\n      <td>0</td>\n      <td>0.0</td>\n      <td>0.0</td>\n      <td>2</td>\n      <td>4</td>\n      <td>4</td>\n      <td>5</td>\n      <td>0.670619</td>\n    </tr>\n    <tr>\n      <th>192</th>\n      <td>3.70</td>\n      <td>360</td>\n      <td>-1.954293</td>\n      <td>0.000000</td>\n      <td>4.570745</td>\n      <td>0</td>\n      <td>0.0</td>\n      <td>0.0</td>\n      <td>1</td>\n      <td>4</td>\n      <td>1</td>\n      <td>6</td>\n      <td>0.670028</td>\n    </tr>\n    <tr>\n      <th>185</th>\n      <td>3.70</td>\n      <td>360</td>\n      <td>-1.961582</td>\n      <td>0.000000</td>\n      <td>3.841794</td>\n      <td>0</td>\n      <td>0.0</td>\n      <td>0.0</td>\n      <td>7</td>\n      <td>4</td>\n      <td>4</td>\n      <td>4</td>\n      <td>0.673751</td>\n    </tr>\n    <tr>\n      <th>64</th>\n      <td>3.70</td>\n      <td>360</td>\n      <td>-1.954293</td>\n      <td>0.000000</td>\n      <td>4.570745</td>\n      <td>0</td>\n      <td>0.0</td>\n      <td>0.0</td>\n      <td>2</td>\n      <td>4</td>\n      <td>1</td>\n      <td>5</td>\n      <td>0.670028</td>\n    </tr>\n    <tr>\n      <th>96</th>\n      <td>3.70</td>\n      <td>360</td>\n      <td>-1.954293</td>\n      <td>0.000000</td>\n      <td>4.570745</td>\n      <td>0</td>\n      <td>0.0</td>\n      <td>0.0</td>\n      <td>2</td>\n      <td>4</td>\n      <td>0</td>\n      <td>5</td>\n      <td>0.670028</td>\n    </tr>\n  </tbody>\n</table>\n<p>1077 rows × 13 columns</p>\n</div>"
     },
     "execution_count": 5,
     "metadata": {},
     "output_type": "execute_result"
    }
   ],
   "source": [
    "run_df_num.sort_values('Perc_done', ascending = False)"
   ],
   "metadata": {
    "collapsed": false,
    "pycharm": {
     "name": "#%%\n"
    }
   }
  },
  {
   "cell_type": "code",
   "execution_count": 6,
   "outputs": [
    {
     "data": {
      "text/plain": "               Score\ncount    1077.000000\nmean       -1.401029\nstd         0.446855\nmin        -2.000000\n50%        -1.510851\n75%        -1.233131\n90%        -0.806619\n95%        -0.499102\nmax         1.146106\nrun_id  10000.000000",
      "text/html": "<div>\n<style scoped>\n    .dataframe tbody tr th:only-of-type {\n        vertical-align: middle;\n    }\n\n    .dataframe tbody tr th {\n        vertical-align: top;\n    }\n\n    .dataframe thead th {\n        text-align: right;\n    }\n</style>\n<table border=\"1\" class=\"dataframe\">\n  <thead>\n    <tr style=\"text-align: right;\">\n      <th></th>\n      <th>Score</th>\n    </tr>\n  </thead>\n  <tbody>\n    <tr>\n      <th>count</th>\n      <td>1077.000000</td>\n    </tr>\n    <tr>\n      <th>mean</th>\n      <td>-1.401029</td>\n    </tr>\n    <tr>\n      <th>std</th>\n      <td>0.446855</td>\n    </tr>\n    <tr>\n      <th>min</th>\n      <td>-2.000000</td>\n    </tr>\n    <tr>\n      <th>50%</th>\n      <td>-1.510851</td>\n    </tr>\n    <tr>\n      <th>75%</th>\n      <td>-1.233131</td>\n    </tr>\n    <tr>\n      <th>90%</th>\n      <td>-0.806619</td>\n    </tr>\n    <tr>\n      <th>95%</th>\n      <td>-0.499102</td>\n    </tr>\n    <tr>\n      <th>max</th>\n      <td>1.146106</td>\n    </tr>\n    <tr>\n      <th>run_id</th>\n      <td>10000.000000</td>\n    </tr>\n  </tbody>\n</table>\n</div>"
     },
     "execution_count": 6,
     "metadata": {},
     "output_type": "execute_result"
    }
   ],
   "source": [
    "\n",
    "pd.concat(df_res_list, axis = 1)"
   ],
   "metadata": {
    "collapsed": false,
    "pycharm": {
     "name": "#%%\n"
    }
   }
  },
  {
   "cell_type": "code",
   "execution_count": 6,
   "outputs": [],
   "source": [],
   "metadata": {
    "collapsed": false,
    "pycharm": {
     "name": "#%%\n"
    }
   }
  }
 ],
 "metadata": {
  "kernelspec": {
   "display_name": "Python 3",
   "language": "python",
   "name": "python3"
  },
  "language_info": {
   "codemirror_mode": {
    "name": "ipython",
    "version": 2
   },
   "file_extension": ".py",
   "mimetype": "text/x-python",
   "name": "python",
   "nbconvert_exporter": "python",
   "pygments_lexer": "ipython2",
   "version": "2.7.6"
  }
 },
 "nbformat": 4,
 "nbformat_minor": 0
}