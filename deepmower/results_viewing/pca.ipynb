{
 "cells": [
  {
   "cell_type": "code",
   "execution_count": 1,
   "metadata": {
    "collapsed": true
   },
   "outputs": [],
   "source": [
    "import pandas as pd\n",
    "\n",
    "import numpy as np\n",
    "from sklearn.decomposition import PCA\n",
    "from sklearn.preprocessing import StandardScaler"
   ]
  },
  {
   "cell_type": "code",
   "execution_count": 2,
   "outputs": [],
   "source": [
    "def drop_constant_column(dataframe):\n",
    "    \"\"\"\n",
    "    Drops constant value columns of pandas dataframe.\n",
    "    \"\"\"\n",
    "    return dataframe.loc[:, (dataframe != dataframe.iloc[0]).any()]"
   ],
   "metadata": {
    "collapsed": false,
    "pycharm": {
     "name": "#%%\n"
    }
   }
  },
  {
   "cell_type": "code",
   "execution_count": 22,
   "outputs": [],
   "source": [
    "go_explore = True\n",
    "reward_type = 2\n",
    "lawn_num = 22\n",
    "run_id = 105\n",
    "\n",
    "log_dir = \"../PPO_logs\"\n",
    "\n",
    "sub_dir = 'go_explore_' + str(go_explore) + '/reward_function' + str(reward_type) + \"/\"\n",
    "\n",
    "env_name = f\"lawn{lawn_num}\"\n",
    "\n",
    "log_dir = log_dir + '/' + env_name + '/' + sub_dir\n",
    "\n",
    "\n",
    "\n",
    "\n",
    "run_num = run_id\n",
    "\n",
    "\n",
    "#### create new log file for each run\n",
    "log_f_name = log_dir + '/' + str(run_num) + \".csv\"''"
   ],
   "metadata": {
    "collapsed": false,
    "pycharm": {
     "name": "#%%\n"
    }
   }
  },
  {
   "cell_type": "code",
   "execution_count": 23,
   "outputs": [],
   "source": [
    "run_df = pd.read_csv(log_f_name)"
   ],
   "metadata": {
    "collapsed": false,
    "pycharm": {
     "name": "#%%\n"
    }
   }
  },
  {
   "cell_type": "code",
   "execution_count": 24,
   "outputs": [],
   "source": [
    "n_pca = None\n",
    "\n",
    "if n_pca is not None:\n",
    "    run_df = run_df.tail(n_pca)"
   ],
   "metadata": {
    "collapsed": false,
    "pycharm": {
     "name": "#%%\n"
    }
   }
  },
  {
   "cell_type": "code",
   "execution_count": 25,
   "outputs": [],
   "source": [
    "paths = run_df['Path']\n"
   ],
   "metadata": {
    "collapsed": false,
    "pycharm": {
     "name": "#%%\n"
    }
   }
  },
  {
   "cell_type": "code",
   "execution_count": 26,
   "outputs": [],
   "source": [
    "\n",
    "\n",
    "run_df = run_df[['Score', 'Fuel_Score', 'Grass_Score',\n",
    "       'Num_Fuel_Obtained', 'Amt_Fuel_Obtained', 'End_Fuel', 'Frames', 'End_x',\n",
    "       'End_y', 'Perc_done', 'Frames_Since_Fuel', 'Fuel_Manhattan', 'Momentum Lost']]"
   ],
   "metadata": {
    "collapsed": false,
    "pycharm": {
     "name": "#%%\n"
    }
   }
  },
  {
   "cell_type": "code",
   "execution_count": 27,
   "outputs": [],
   "source": [
    "run_df = drop_constant_column(run_df)"
   ],
   "metadata": {
    "collapsed": false,
    "pycharm": {
     "name": "#%%\n"
    }
   }
  },
  {
   "cell_type": "code",
   "execution_count": 28,
   "outputs": [
    {
     "data": {
      "text/plain": "          Score  Fuel_Score  Grass_Score  Num_Fuel_Obtained  \\\n0     -1.705939    0.000000    29.406092                  0   \n1     -1.906101    0.000000     9.389869                  0   \n2     -1.861133    0.000000    13.886653                  0   \n3     -1.570705    6.012821    36.916676                  1   \n4     -1.891836    0.000000    10.816408                  0   \n...         ...         ...          ...                ...   \n89916  7.934680   44.016872   949.451097                  3   \n89917  7.881697   43.798913   944.370833                  3   \n89918  5.056204   25.040987   680.579422                  2   \n89919 -1.499112    3.669034    46.419755                  1   \n89920  2.807854   16.312675   464.472678                  1   \n\n       Amt_Fuel_Obtained  Frames  End_x  End_y  Perc_done  Fuel_Manhattan  \\\n0                    0.0     360      3      8      12.35               4   \n1                    0.0     360      3      4       6.17               4   \n2                    0.0     360     11      8       8.02               8   \n3                   45.0     629      1      9      14.81               8   \n4                    0.0     359      9      4       6.79               6   \n...                  ...     ...    ...    ...        ...             ...   \n89916              114.0    1032      4     22      84.57              15   \n89917              119.0    1064      4     22      84.57              15   \n89918               78.0     819      2     22      70.99              20   \n89919               28.0     528      6     12      17.28               9   \n89920               50.0     652      3     22      57.41              11   \n\n       Momentum Lost  \n0                  8  \n1                  5  \n2                  8  \n3                 14  \n4                  4  \n...              ...  \n89916             51  \n89917             50  \n89918             29  \n89919             21  \n89920             25  \n\n[89921 rows x 11 columns]",
      "text/html": "<div>\n<style scoped>\n    .dataframe tbody tr th:only-of-type {\n        vertical-align: middle;\n    }\n\n    .dataframe tbody tr th {\n        vertical-align: top;\n    }\n\n    .dataframe thead th {\n        text-align: right;\n    }\n</style>\n<table border=\"1\" class=\"dataframe\">\n  <thead>\n    <tr style=\"text-align: right;\">\n      <th></th>\n      <th>Score</th>\n      <th>Fuel_Score</th>\n      <th>Grass_Score</th>\n      <th>Num_Fuel_Obtained</th>\n      <th>Amt_Fuel_Obtained</th>\n      <th>Frames</th>\n      <th>End_x</th>\n      <th>End_y</th>\n      <th>Perc_done</th>\n      <th>Fuel_Manhattan</th>\n      <th>Momentum Lost</th>\n    </tr>\n  </thead>\n  <tbody>\n    <tr>\n      <th>0</th>\n      <td>-1.705939</td>\n      <td>0.000000</td>\n      <td>29.406092</td>\n      <td>0</td>\n      <td>0.0</td>\n      <td>360</td>\n      <td>3</td>\n      <td>8</td>\n      <td>12.35</td>\n      <td>4</td>\n      <td>8</td>\n    </tr>\n    <tr>\n      <th>1</th>\n      <td>-1.906101</td>\n      <td>0.000000</td>\n      <td>9.389869</td>\n      <td>0</td>\n      <td>0.0</td>\n      <td>360</td>\n      <td>3</td>\n      <td>4</td>\n      <td>6.17</td>\n      <td>4</td>\n      <td>5</td>\n    </tr>\n    <tr>\n      <th>2</th>\n      <td>-1.861133</td>\n      <td>0.000000</td>\n      <td>13.886653</td>\n      <td>0</td>\n      <td>0.0</td>\n      <td>360</td>\n      <td>11</td>\n      <td>8</td>\n      <td>8.02</td>\n      <td>8</td>\n      <td>8</td>\n    </tr>\n    <tr>\n      <th>3</th>\n      <td>-1.570705</td>\n      <td>6.012821</td>\n      <td>36.916676</td>\n      <td>1</td>\n      <td>45.0</td>\n      <td>629</td>\n      <td>1</td>\n      <td>9</td>\n      <td>14.81</td>\n      <td>8</td>\n      <td>14</td>\n    </tr>\n    <tr>\n      <th>4</th>\n      <td>-1.891836</td>\n      <td>0.000000</td>\n      <td>10.816408</td>\n      <td>0</td>\n      <td>0.0</td>\n      <td>359</td>\n      <td>9</td>\n      <td>4</td>\n      <td>6.79</td>\n      <td>6</td>\n      <td>4</td>\n    </tr>\n    <tr>\n      <th>...</th>\n      <td>...</td>\n      <td>...</td>\n      <td>...</td>\n      <td>...</td>\n      <td>...</td>\n      <td>...</td>\n      <td>...</td>\n      <td>...</td>\n      <td>...</td>\n      <td>...</td>\n      <td>...</td>\n    </tr>\n    <tr>\n      <th>89916</th>\n      <td>7.934680</td>\n      <td>44.016872</td>\n      <td>949.451097</td>\n      <td>3</td>\n      <td>114.0</td>\n      <td>1032</td>\n      <td>4</td>\n      <td>22</td>\n      <td>84.57</td>\n      <td>15</td>\n      <td>51</td>\n    </tr>\n    <tr>\n      <th>89917</th>\n      <td>7.881697</td>\n      <td>43.798913</td>\n      <td>944.370833</td>\n      <td>3</td>\n      <td>119.0</td>\n      <td>1064</td>\n      <td>4</td>\n      <td>22</td>\n      <td>84.57</td>\n      <td>15</td>\n      <td>50</td>\n    </tr>\n    <tr>\n      <th>89918</th>\n      <td>5.056204</td>\n      <td>25.040987</td>\n      <td>680.579422</td>\n      <td>2</td>\n      <td>78.0</td>\n      <td>819</td>\n      <td>2</td>\n      <td>22</td>\n      <td>70.99</td>\n      <td>20</td>\n      <td>29</td>\n    </tr>\n    <tr>\n      <th>89919</th>\n      <td>-1.499112</td>\n      <td>3.669034</td>\n      <td>46.419755</td>\n      <td>1</td>\n      <td>28.0</td>\n      <td>528</td>\n      <td>6</td>\n      <td>12</td>\n      <td>17.28</td>\n      <td>9</td>\n      <td>21</td>\n    </tr>\n    <tr>\n      <th>89920</th>\n      <td>2.807854</td>\n      <td>16.312675</td>\n      <td>464.472678</td>\n      <td>1</td>\n      <td>50.0</td>\n      <td>652</td>\n      <td>3</td>\n      <td>22</td>\n      <td>57.41</td>\n      <td>11</td>\n      <td>25</td>\n    </tr>\n  </tbody>\n</table>\n<p>89921 rows × 11 columns</p>\n</div>"
     },
     "execution_count": 28,
     "metadata": {},
     "output_type": "execute_result"
    }
   ],
   "source": [
    "run_df"
   ],
   "metadata": {
    "collapsed": false,
    "pycharm": {
     "name": "#%%\n"
    }
   }
  },
  {
   "cell_type": "code",
   "execution_count": 29,
   "outputs": [],
   "source": [
    "scaler = StandardScaler()\n"
   ],
   "metadata": {
    "collapsed": false,
    "pycharm": {
     "name": "#%%\n"
    }
   }
  },
  {
   "cell_type": "code",
   "execution_count": 30,
   "outputs": [],
   "source": [
    "scaled_df=run_df.copy()"
   ],
   "metadata": {
    "collapsed": false,
    "pycharm": {
     "name": "#%%\n"
    }
   }
  },
  {
   "cell_type": "code",
   "execution_count": 31,
   "outputs": [],
   "source": [
    "scaled_df=pd.DataFrame(scaler.fit_transform(scaled_df), columns=scaled_df.columns)"
   ],
   "metadata": {
    "collapsed": false,
    "pycharm": {
     "name": "#%%\n"
    }
   }
  },
  {
   "cell_type": "code",
   "execution_count": 32,
   "outputs": [],
   "source": [
    "\n",
    "#define PCA model to use\n",
    "pca = PCA(n_components=10)\n",
    "\n",
    "#fit PCA model to data\n",
    "pca_fit = pca.fit(scaled_df)"
   ],
   "metadata": {
    "collapsed": false,
    "pycharm": {
     "name": "#%%\n"
    }
   }
  },
  {
   "cell_type": "code",
   "execution_count": 33,
   "outputs": [
    {
     "data": {
      "text/plain": "<Figure size 640x480 with 1 Axes>",
      "image/png": "[encoded data removed]"
     },
     "metadata": {},
     "output_type": "display_data"
    }
   ],
   "source": [
    "import matplotlib.pyplot as plt\n",
    "PC_values = np.arange(pca.n_components_) + 1\n",
    "plt.plot(PC_values, pca.explained_variance_ratio_, 'o-', linewidth=2, color='blue')\n",
    "plt.title('Scree Plot')\n",
    "plt.xlabel('Principal Component')\n",
    "plt.ylabel('Variance Explained')\n",
    "plt.show()"
   ],
   "metadata": {
    "collapsed": false,
    "pycharm": {
     "name": "#%%\n"
    }
   }
  },
  {
   "cell_type": "code",
   "execution_count": 34,
   "outputs": [
    {
     "data": {
      "text/plain": "array([[-4.77769635e+00,  1.42608942e+00, -1.76197491e+00, ...,\n        -6.93994669e-02, -1.06577199e-01,  1.24359176e-01],\n       [-5.26134655e+00,  1.86689855e+00, -1.81938623e+00, ...,\n        -8.11866875e-02, -1.34306230e-01,  2.03659163e-01],\n       [-5.00061042e+00,  7.72568038e-01,  2.17470752e-01, ...,\n        -1.57711081e-01, -2.39610481e-01,  2.67656870e-01],\n       ...,\n       [ 2.76265211e+00, -5.59991166e-01, -4.09012160e-01, ...,\n        -6.58068182e-02,  1.06939169e-01, -1.07649296e-03],\n       [-2.98393222e+00,  1.41783931e+00, -3.44763858e-02, ...,\n        -2.52572371e-01, -9.15688434e-02,  7.59283654e-02],\n       [ 4.24729827e-01, -1.94977508e-01, -1.10171845e+00, ...,\n         1.15951152e-01, -7.18508850e-02, -5.67436291e-02]])"
     },
     "execution_count": 34,
     "metadata": {},
     "output_type": "execute_result"
    }
   ],
   "source": [
    "pca_fit.fit_transform(scaled_df)"
   ],
   "metadata": {
    "collapsed": false,
    "pycharm": {
     "name": "#%%\n"
    }
   }
  },
  {
   "cell_type": "code",
   "execution_count": 35,
   "outputs": [
    {
     "data": {
      "text/plain": "(11, 10)"
     },
     "execution_count": 35,
     "metadata": {},
     "output_type": "execute_result"
    }
   ],
   "source": [
    "\n",
    "pca_fit.components_.T.shape"
   ],
   "metadata": {
    "collapsed": false,
    "pycharm": {
     "name": "#%%\n"
    }
   }
  },
  {
   "cell_type": "code",
   "execution_count": 36,
   "outputs": [],
   "source": [
    "pcs = scaled_df.__matmul__(pca.components_.T)"
   ],
   "metadata": {
    "collapsed": false,
    "pycharm": {
     "name": "#%%\n"
    }
   }
  },
  {
   "cell_type": "code",
   "execution_count": 36,
   "outputs": [],
   "source": [],
   "metadata": {
    "collapsed": false,
    "pycharm": {
     "name": "#%%\n"
    }
   }
  },
  {
   "cell_type": "code",
   "execution_count": 37,
   "outputs": [],
   "source": [
    "idxs = []\n",
    "\n",
    "for i in range(7):\n",
    "    idxs.append(pcs[i].argmax())\n",
    "    idxs.append(pcs[i].argmin())"
   ],
   "metadata": {
    "collapsed": false,
    "pycharm": {
     "name": "#%%\n"
    }
   }
  },
  {
   "cell_type": "code",
   "execution_count": 38,
   "outputs": [
    {
     "data": {
      "text/plain": "          Score  Fuel_Score  Grass_Score  Num_Fuel_Obtained  \\\n1983  -0.660632   16.292482   117.644268                 11   \n44709 -1.966043    0.000000     3.395661                  0   \n610   -1.532833   16.292482    30.424254                 11   \n4971  -0.045475    0.000000   195.452543                  0   \n1026  -0.877978   11.912978   100.289201                 10   \n85485  6.839161   31.498249   852.417890                  2   \n1983  -0.660632   16.292482   117.644268                 11   \n81563  5.795907   43.324664   736.265988                  3   \n66247  0.063000    9.554265   196.745703                  4   \n55941 -1.473904   33.102131   392.073406                  2   \n1255  -1.176469    9.554265    72.798861                  4   \n1897  -1.088280    7.551209    83.620816                  7   \n78553 -1.902260   43.968291   578.093170                  3   \n34468  0.197326   11.338150   208.394438                  9   \n\n       Amt_Fuel_Obtained  Frames  End_x  End_y  Perc_done  Fuel_Manhattan  \\\n1983               360.0    2518      1     22      31.48              18   \n44709                0.0     360      6      5       3.09               2   \n610                360.0    2519      4      5      14.20               6   \n4971                 0.0     353     11     22      34.57              22   \n1026               324.0    2299      9     19      29.01              19   \n85485               89.0     883      1     22      79.63               5   \n1983               360.0    2518      1     22      31.48              18   \n81563              126.0    1108     11     12      74.07              12   \n66247              150.0    1257      1     18      39.51               5   \n55941              103.0     971      1      4      51.85              16   \n1255               150.0    1258      1      4      22.84               9   \n1897               219.0    1668      9     14      25.93               9   \n78553              116.0    1047      2     22      64.20              15   \n34468              299.0    2149     11     18      42.59              22   \n\n       Momentum Lost  \n1983              48  \n44709              0  \n610               44  \n4971               5  \n1026              49  \n85485             31  \n1983              48  \n81563             43  \n66247             61  \n55941             22  \n1255              56  \n1897              15  \n78553             39  \n34468             58  ",
      "text/html": "<div>\n<style scoped>\n    .dataframe tbody tr th:only-of-type {\n        vertical-align: middle;\n    }\n\n    .dataframe tbody tr th {\n        vertical-align: top;\n    }\n\n    .dataframe thead th {\n        text-align: right;\n    }\n</style>\n<table border=\"1\" class=\"dataframe\">\n  <thead>\n    <tr style=\"text-align: right;\">\n      <th></th>\n      <th>Score</th>\n      <th>Fuel_Score</th>\n      <th>Grass_Score</th>\n      <th>Num_Fuel_Obtained</th>\n      <th>Amt_Fuel_Obtained</th>\n      <th>Frames</th>\n      <th>End_x</th>\n      <th>End_y</th>\n      <th>Perc_done</th>\n      <th>Fuel_Manhattan</th>\n      <th>Momentum Lost</th>\n    </tr>\n  </thead>\n  <tbody>\n    <tr>\n      <th>1983</th>\n      <td>-0.660632</td>\n      <td>16.292482</td>\n      <td>117.644268</td>\n      <td>11</td>\n      <td>360.0</td>\n      <td>2518</td>\n      <td>1</td>\n      <td>22</td>\n      <td>31.48</td>\n      <td>18</td>\n      <td>48</td>\n    </tr>\n    <tr>\n      <th>44709</th>\n      <td>-1.966043</td>\n      <td>0.000000</td>\n      <td>3.395661</td>\n      <td>0</td>\n      <td>0.0</td>\n      <td>360</td>\n      <td>6</td>\n      <td>5</td>\n      <td>3.09</td>\n      <td>2</td>\n      <td>0</td>\n    </tr>\n    <tr>\n      <th>610</th>\n      <td>-1.532833</td>\n      <td>16.292482</td>\n      <td>30.424254</td>\n      <td>11</td>\n      <td>360.0</td>\n      <td>2519</td>\n      <td>4</td>\n      <td>5</td>\n      <td>14.20</td>\n      <td>6</td>\n      <td>44</td>\n    </tr>\n    <tr>\n      <th>4971</th>\n      <td>-0.045475</td>\n      <td>0.000000</td>\n      <td>195.452543</td>\n      <td>0</td>\n      <td>0.0</td>\n      <td>353</td>\n      <td>11</td>\n      <td>22</td>\n      <td>34.57</td>\n      <td>22</td>\n      <td>5</td>\n    </tr>\n    <tr>\n      <th>1026</th>\n      <td>-0.877978</td>\n      <td>11.912978</td>\n      <td>100.289201</td>\n      <td>10</td>\n      <td>324.0</td>\n      <td>2299</td>\n      <td>9</td>\n      <td>19</td>\n      <td>29.01</td>\n      <td>19</td>\n      <td>49</td>\n    </tr>\n    <tr>\n      <th>85485</th>\n      <td>6.839161</td>\n      <td>31.498249</td>\n      <td>852.417890</td>\n      <td>2</td>\n      <td>89.0</td>\n      <td>883</td>\n      <td>1</td>\n      <td>22</td>\n      <td>79.63</td>\n      <td>5</td>\n      <td>31</td>\n    </tr>\n    <tr>\n      <th>1983</th>\n      <td>-0.660632</td>\n      <td>16.292482</td>\n      <td>117.644268</td>\n      <td>11</td>\n      <td>360.0</td>\n      <td>2518</td>\n      <td>1</td>\n      <td>22</td>\n      <td>31.48</td>\n      <td>18</td>\n      <td>48</td>\n    </tr>\n    <tr>\n      <th>81563</th>\n      <td>5.795907</td>\n      <td>43.324664</td>\n      <td>736.265988</td>\n      <td>3</td>\n      <td>126.0</td>\n      <td>1108</td>\n      <td>11</td>\n      <td>12</td>\n      <td>74.07</td>\n      <td>12</td>\n      <td>43</td>\n    </tr>\n    <tr>\n      <th>66247</th>\n      <td>0.063000</td>\n      <td>9.554265</td>\n      <td>196.745703</td>\n      <td>4</td>\n      <td>150.0</td>\n      <td>1257</td>\n      <td>1</td>\n      <td>18</td>\n      <td>39.51</td>\n      <td>5</td>\n      <td>61</td>\n    </tr>\n    <tr>\n      <th>55941</th>\n      <td>-1.473904</td>\n      <td>33.102131</td>\n      <td>392.073406</td>\n      <td>2</td>\n      <td>103.0</td>\n      <td>971</td>\n      <td>1</td>\n      <td>4</td>\n      <td>51.85</td>\n      <td>16</td>\n      <td>22</td>\n    </tr>\n    <tr>\n      <th>1255</th>\n      <td>-1.176469</td>\n      <td>9.554265</td>\n      <td>72.798861</td>\n      <td>4</td>\n      <td>150.0</td>\n      <td>1258</td>\n      <td>1</td>\n      <td>4</td>\n      <td>22.84</td>\n      <td>9</td>\n      <td>56</td>\n    </tr>\n    <tr>\n      <th>1897</th>\n      <td>-1.088280</td>\n      <td>7.551209</td>\n      <td>83.620816</td>\n      <td>7</td>\n      <td>219.0</td>\n      <td>1668</td>\n      <td>9</td>\n      <td>14</td>\n      <td>25.93</td>\n      <td>9</td>\n      <td>15</td>\n    </tr>\n    <tr>\n      <th>78553</th>\n      <td>-1.902260</td>\n      <td>43.968291</td>\n      <td>578.093170</td>\n      <td>3</td>\n      <td>116.0</td>\n      <td>1047</td>\n      <td>2</td>\n      <td>22</td>\n      <td>64.20</td>\n      <td>15</td>\n      <td>39</td>\n    </tr>\n    <tr>\n      <th>34468</th>\n      <td>0.197326</td>\n      <td>11.338150</td>\n      <td>208.394438</td>\n      <td>9</td>\n      <td>299.0</td>\n      <td>2149</td>\n      <td>11</td>\n      <td>18</td>\n      <td>42.59</td>\n      <td>22</td>\n      <td>58</td>\n    </tr>\n  </tbody>\n</table>\n</div>"
     },
     "execution_count": 38,
     "metadata": {},
     "output_type": "execute_result"
    }
   ],
   "source": [
    "run_df.iloc[idxs]"
   ],
   "metadata": {
    "collapsed": false,
    "pycharm": {
     "name": "#%%\n"
    }
   }
  },
  {
   "cell_type": "code",
   "execution_count": 74,
   "outputs": [],
   "source": [
    "paths = paths.iloc[idxs].reset_index(drop=True)"
   ],
   "metadata": {
    "collapsed": false,
    "pycharm": {
     "name": "#%%\n"
    }
   }
  },
  {
   "cell_type": "code",
   "execution_count": 75,
   "outputs": [],
   "source": [
    "paths_list = paths.values.tolist()"
   ],
   "metadata": {
    "collapsed": false,
    "pycharm": {
     "name": "#%%\n"
    }
   }
  },
  {
   "cell_type": "code",
   "execution_count": 76,
   "outputs": [],
   "source": [
    "path = paths_list[0].strip('][').split(', ')"
   ],
   "metadata": {
    "collapsed": false,
    "pycharm": {
     "name": "#%%\n"
    }
   }
  },
  {
   "cell_type": "code",
   "execution_count": 77,
   "outputs": [
    {
     "data": {
      "text/plain": "['2',\n '2',\n '0',\n '1',\n '2',\n '2',\n '1',\n '2',\n '1',\n '2',\n '1',\n '1',\n '3',\n '3',\n '3',\n '0',\n '3',\n '1',\n '3',\n '3',\n '3',\n '0',\n '3',\n '1',\n '1',\n '3',\n '1',\n '1',\n '2',\n '2',\n '2',\n '2',\n '0',\n '0',\n '0',\n '0',\n '0',\n '0',\n '0',\n '1',\n '3',\n '1',\n '1',\n '1',\n '1',\n '2',\n '2',\n '1',\n '2',\n '1',\n '2',\n '2',\n '2',\n '2',\n '1',\n '1',\n '1',\n '3',\n '1',\n '3',\n '3',\n '3',\n '1',\n '3',\n '3',\n '1',\n '1',\n '3',\n '3',\n '1',\n '3',\n '3',\n '0',\n '0',\n '0',\n '0',\n '0',\n '0',\n '0',\n '3',\n '0',\n '2',\n '2',\n '0',\n '0',\n '3',\n '2',\n '2',\n '0',\n '2',\n '0',\n '0',\n '0',\n '2',\n '0',\n '2',\n '0',\n '0',\n '2',\n '0',\n '2',\n '2',\n '0',\n '3',\n '3',\n '0',\n '2',\n '2',\n '1',\n '3',\n '3',\n '3',\n '3',\n '3',\n '1',\n '3',\n '0',\n '0',\n '2',\n '2',\n '1',\n '3',\n '3',\n '1',\n '3',\n '1',\n '3',\n '0',\n '2',\n '1',\n '2',\n '2',\n '2',\n '1',\n '3',\n '1',\n '2',\n '0',\n '1',\n '3',\n '1',\n '2',\n '2',\n '2',\n '2',\n '2',\n '0',\n '2',\n '1',\n '3',\n '2',\n '3',\n '2',\n '1',\n '2',\n '1',\n '3',\n '1',\n '3',\n '2',\n '2',\n '1',\n '3',\n '3',\n '3',\n '3',\n '1',\n '3',\n '3',\n '1',\n '1',\n '2',\n '2',\n '1',\n '2',\n '2',\n '2',\n '0',\n '2',\n '1',\n '0',\n '3',\n '3',\n '3',\n '3',\n '2',\n '3',\n '3',\n '0',\n '2',\n '1',\n '3',\n '2',\n '2',\n '3',\n '1',\n '3',\n '3',\n '3',\n '3',\n '0',\n '2',\n '2',\n '2',\n '2',\n '2',\n '2',\n '2',\n '2',\n '2',\n '2',\n '1',\n '3',\n '3',\n '2',\n '2',\n '1',\n '2',\n '2',\n '2',\n '2',\n '3',\n '3',\n '3',\n '2',\n '0',\n '2',\n '2',\n '2',\n '2',\n '1',\n '3',\n '2',\n '3',\n '0',\n '3',\n '0',\n '2',\n '3',\n '1',\n '3',\n '2',\n '2',\n '0',\n '3',\n '3',\n '3',\n '0',\n '2',\n '2',\n '1',\n '2',\n '1',\n '3',\n '3',\n '3',\n '2',\n '1',\n '2',\n '2',\n '3']"
     },
     "execution_count": 77,
     "metadata": {},
     "output_type": "execute_result"
    }
   ],
   "source": [
    "path"
   ],
   "metadata": {
    "collapsed": false,
    "pycharm": {
     "name": "#%%\n"
    }
   }
  },
  {
   "cell_type": "code",
   "execution_count": 78,
   "outputs": [],
   "source": [
    "go_paths = []\n",
    "\n",
    "for path_ in paths_list:\n",
    "    path = path_.strip('][').split(', ')\n",
    "    path = list(map(int,path))\n",
    "    path_length = len(path)\n",
    "    end_idx = int(np.random.triangular(left = int(0.1*path_length),\n",
    "                                   right = int(0.9*path_length),\n",
    "                                   mode = int(0.7*path_length)))\n",
    "    go_paths.append(path[:end_idx])"
   ],
   "metadata": {
    "collapsed": false,
    "pycharm": {
     "name": "#%%\n"
    }
   }
  },
  {
   "cell_type": "code",
   "execution_count": 78,
   "outputs": [],
   "source": [],
   "metadata": {
    "collapsed": false,
    "pycharm": {
     "name": "#%%\n"
    }
   }
  }
 ],
 "metadata": {
  "kernelspec": {
   "display_name": "Python 3",
   "language": "python",
   "name": "python3"
  },
  "language_info": {
   "codemirror_mode": {
    "name": "ipython",
    "version": 2
   },
   "file_extension": ".py",
   "mimetype": "text/x-python",
   "name": "python",
   "nbconvert_exporter": "python",
   "pygments_lexer": "ipython2",
   "version": "2.7.6"
  }
 },
 "nbformat": 4,
 "nbformat_minor": 0
}